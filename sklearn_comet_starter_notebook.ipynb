{
 "cells": [
  {
   "cell_type": "markdown",
   "metadata": {
    "id": "-XweBu-_x9Vj"
   },
   "source": [
    "## Introduction to Comet ML  \n",
    "\n",
    "Comet is a great tool for model versioning and experimentation as it records the parameters and conditions from each of your experiements- allowing you to reproduce your results, or go back to a previous version of your experiment.  \n",
    "\n",
    "To create an account, visit https://www.comet.ml/  \n",
    "Follow the instructions for a single user account. Once that is created, you will see a project folder. That is where the records of your experiments can be viewed. \n",
    "\n",
    "Comet has an abundance of tutorials and scripts, we're just going to run through this notebook to get you started on the right track. For this illustration, we will be using one of the examples found on the Comet ML GitHub repo.\n",
    "\n",
    "To begin with, you should install as illustrated below if you don't already have it. *Always import Experiment at the top of your notebook/script.*\n"
   ]
  },
  {
   "cell_type": "code",
   "execution_count": 2,
   "metadata": {
    "colab": {
     "base_uri": "https://localhost:8080/"
    },
    "id": "3Wd_iEgx6j2w",
    "outputId": "3bf0a160-c936-41b0-c726-0b9b2ee2bae3"
   },
   "outputs": [
    {
     "name": "stdout",
     "output_type": "stream",
     "text": [
      "Looking in indexes: https://pypi.org/simple, https://us-python.pkg.dev/colab-wheels/public/simple/\n",
      "Collecting comet_ml\n",
      "  Downloading comet_ml-3.31.3-py2.py3-none-any.whl (353 kB)\n",
      "\u001b[K     |████████████████████████████████| 353 kB 5.3 MB/s \n",
      "\u001b[?25hRequirement already satisfied: nvidia-ml-py3>=7.352.0 in /usr/local/lib/python3.7/dist-packages (from comet_ml) (7.352.0)\n",
      "Collecting semantic-version>=2.8.0\n",
      "  Downloading semantic_version-2.10.0-py2.py3-none-any.whl (15 kB)\n",
      "Requirement already satisfied: requests>=2.18.4 in /usr/local/lib/python3.7/dist-packages (from comet_ml) (2.23.0)\n",
      "Collecting requests-toolbelt>=0.8.0\n",
      "  Downloading requests_toolbelt-0.9.1-py2.py3-none-any.whl (54 kB)\n",
      "\u001b[K     |████████████████████████████████| 54 kB 2.6 MB/s \n",
      "\u001b[?25hRequirement already satisfied: six in /usr/local/lib/python3.7/dist-packages (from comet_ml) (1.15.0)\n",
      "Requirement already satisfied: jsonschema!=3.1.0,>=2.6.0 in /usr/local/lib/python3.7/dist-packages (from comet_ml) (4.3.3)\n",
      "Collecting wurlitzer>=1.0.2\n",
      "  Downloading wurlitzer-3.0.2-py3-none-any.whl (7.3 kB)\n",
      "Collecting dulwich!=0.20.33,>=0.20.6\n",
      "  Downloading dulwich-0.20.43-cp37-cp37m-manylinux_2_5_x86_64.manylinux1_x86_64.manylinux_2_12_x86_64.manylinux2010_x86_64.whl (552 kB)\n",
      "\u001b[K     |████████████████████████████████| 552 kB 56.8 MB/s \n",
      "\u001b[?25hCollecting websocket-client>=0.55.0\n",
      "  Downloading websocket_client-1.3.2-py3-none-any.whl (54 kB)\n",
      "\u001b[K     |████████████████████████████████| 54 kB 2.5 MB/s \n",
      "\u001b[?25hRequirement already satisfied: wrapt>=1.11.2 in /usr/local/lib/python3.7/dist-packages (from comet_ml) (1.14.1)\n",
      "Collecting everett[ini]>=1.0.1\n",
      "  Downloading everett-3.0.0-py2.py3-none-any.whl (35 kB)\n",
      "Requirement already satisfied: urllib3>=1.24.1 in /usr/local/lib/python3.7/dist-packages (from dulwich!=0.20.33,>=0.20.6->comet_ml) (1.24.3)\n",
      "Requirement already satisfied: certifi in /usr/local/lib/python3.7/dist-packages (from dulwich!=0.20.33,>=0.20.6->comet_ml) (2022.5.18.1)\n",
      "Collecting configobj\n",
      "  Downloading configobj-5.0.6.tar.gz (33 kB)\n",
      "Requirement already satisfied: importlib-metadata in /usr/local/lib/python3.7/dist-packages (from jsonschema!=3.1.0,>=2.6.0->comet_ml) (4.11.4)\n",
      "Requirement already satisfied: attrs>=17.4.0 in /usr/local/lib/python3.7/dist-packages (from jsonschema!=3.1.0,>=2.6.0->comet_ml) (21.4.0)\n",
      "Requirement already satisfied: pyrsistent!=0.17.0,!=0.17.1,!=0.17.2,>=0.14.0 in /usr/local/lib/python3.7/dist-packages (from jsonschema!=3.1.0,>=2.6.0->comet_ml) (0.18.1)\n",
      "Requirement already satisfied: typing-extensions in /usr/local/lib/python3.7/dist-packages (from jsonschema!=3.1.0,>=2.6.0->comet_ml) (4.2.0)\n",
      "Requirement already satisfied: importlib-resources>=1.4.0 in /usr/local/lib/python3.7/dist-packages (from jsonschema!=3.1.0,>=2.6.0->comet_ml) (5.7.1)\n",
      "Requirement already satisfied: zipp>=3.1.0 in /usr/local/lib/python3.7/dist-packages (from importlib-resources>=1.4.0->jsonschema!=3.1.0,>=2.6.0->comet_ml) (3.8.0)\n",
      "Requirement already satisfied: idna<3,>=2.5 in /usr/local/lib/python3.7/dist-packages (from requests>=2.18.4->comet_ml) (2.10)\n",
      "Requirement already satisfied: chardet<4,>=3.0.2 in /usr/local/lib/python3.7/dist-packages (from requests>=2.18.4->comet_ml) (3.0.4)\n",
      "Building wheels for collected packages: configobj\n",
      "  Building wheel for configobj (setup.py) ... \u001b[?25l\u001b[?25hdone\n",
      "  Created wheel for configobj: filename=configobj-5.0.6-py3-none-any.whl size=34547 sha256=0b4291d3d7c7ed550de3cc8e19f1a2770bde7b949341e3dcb222f21db9e9e832\n",
      "  Stored in directory: /root/.cache/pip/wheels/0d/c4/19/13d74440f2a571841db6b6e0a273694327498884dafb9cf978\n",
      "Successfully built configobj\n",
      "Installing collected packages: everett, configobj, wurlitzer, websocket-client, semantic-version, requests-toolbelt, dulwich, comet-ml\n",
      "Successfully installed comet-ml-3.31.3 configobj-5.0.6 dulwich-0.20.43 everett-3.0.0 requests-toolbelt-0.9.1 semantic-version-2.10.0 websocket-client-1.3.2 wurlitzer-3.0.2\n"
     ]
    }
   ],
   "source": [
    "!pip install comet_ml"
   ]
  },
  {
   "cell_type": "code",
   "execution_count": 3,
   "metadata": {
    "id": "3jhxZfPg6qxH"
   },
   "outputs": [],
   "source": [
    "from comet_ml import Experiment"
   ]
  },
  {
   "cell_type": "code",
   "execution_count": 4,
   "metadata": {
    "colab": {
     "base_uri": "https://localhost:8080/"
    },
    "id": "WRMAP4Ysz1MG",
    "outputId": "153df099-2f5c-4c95-f443-e458581204c5"
   },
   "outputs": [
    {
     "name": "stderr",
     "output_type": "stream",
     "text": [
      "COMET WARNING: As you are running in a Jupyter environment, you will need to call `experiment.end()` when finished to ensure all metrics and code are logged before exiting.\n",
      "COMET ERROR: Failed to calculate active processors count. Fall back to default CPU count 1\n",
      "COMET INFO: Couldn't find a Git repository in '/content' nor in any parent directory. You can override where Comet is looking for a Git Patch by setting the configuration `COMET_GIT_DIRECTORY`\n",
      "COMET INFO: Experiment is live on comet.ml https://www.comet.ml/mohau45/general/25f07424b059474792ec0db1a8257d32\n",
      "\n"
     ]
    }
   ],
   "source": [
    "# Import comet_ml at the top of your file\n",
    "from comet_ml import Experiment\n",
    "\n",
    "# Create an experiment with your api key\n",
    "experiment = Experiment(\n",
    "    api_key=\"g4lnO5loqpjZChI9ThE9L3ebw\",\n",
    "    project_name=\"general\",\n",
    "    workspace=\"mohau45\",\n",
    ")\n",
    "\n",
    "# Run your code and go to /"
   ]
  },
  {
   "cell_type": "markdown",
   "metadata": {
    "id": "cObkea-S7Y85"
   },
   "source": [
    "You will see an API key button at the top of the page when you click on an experiment- use this key as illustrated below to link your current workspace to comet. (If a project is empty, the code below will autogenerate for you on the project page, just copy and paste it in here)"
   ]
  },
  {
   "cell_type": "markdown",
   "metadata": {
    "id": "2dN3PMg07s0Q"
   },
   "source": [
    "Import the rest of your necessary libraries as you usually would. For this demonstration we will be using the breast cancer dataset for classification so we will also import that from sklearn."
   ]
  },
  {
   "cell_type": "code",
   "execution_count": 5,
   "metadata": {
    "id": "Q53Mocnc79cF"
   },
   "outputs": [],
   "source": [
    "import numpy as np\n",
    "from sklearn.datasets import load_breast_cancer\n",
    "from sklearn.model_selection import train_test_split, GridSearchCV\n",
    "from sklearn.linear_model import LogisticRegression\n",
    "from sklearn.tree import DecisionTreeClassifier\n",
    "from sklearn.preprocessing import StandardScaler\n",
    "from sklearn.metrics import f1_score, precision_score, recall_score, confusion_matrix"
   ]
  },
  {
   "cell_type": "code",
   "execution_count": 6,
   "metadata": {
    "colab": {
     "base_uri": "https://localhost:8080/"
    },
    "id": "olkD6zuo_VI9",
    "outputId": "197a6561-28dd-476b-90d7-cd5a139c72ae"
   },
   "outputs": [
    {
     "name": "stdout",
     "output_type": "stream",
     "text": [
      "cancer.keys(): dict_keys(['data', 'target', 'frame', 'target_names', 'DESCR', 'feature_names', 'filename', 'data_module'])\n",
      "Shape of cancer data: (569, 30)\n",
      "\n",
      "Sample counts per class:\n",
      "{'malignant': 212, 'benign': 357}\n",
      "\n",
      "Feature names:\n",
      "['mean radius' 'mean texture' 'mean perimeter' 'mean area'\n",
      " 'mean smoothness' 'mean compactness' 'mean concavity'\n",
      " 'mean concave points' 'mean symmetry' 'mean fractal dimension'\n",
      " 'radius error' 'texture error' 'perimeter error' 'area error'\n",
      " 'smoothness error' 'compactness error' 'concavity error'\n",
      " 'concave points error' 'symmetry error' 'fractal dimension error'\n",
      " 'worst radius' 'worst texture' 'worst perimeter' 'worst area'\n",
      " 'worst smoothness' 'worst compactness' 'worst concavity'\n",
      " 'worst concave points' 'worst symmetry' 'worst fractal dimension']\n"
     ]
    }
   ],
   "source": [
    "# Have a look at your dataset\n",
    "cancer = load_breast_cancer()\n",
    "print(\"cancer.keys(): {}\".format(cancer.keys()))\n",
    "print(\"Shape of cancer data: {}\\n\".format(cancer.data.shape))\n",
    "print(\"Sample counts per class:\\n{}\".format(\n",
    "      {n: v for n, v in zip(cancer.target_names, np.bincount(cancer.target))}))\n",
    "print(\"\\nFeature names:\\n{}\".format(cancer.feature_names))"
   ]
  },
  {
   "cell_type": "markdown",
   "metadata": {
    "id": "H_KDcC6O_uon"
   },
   "source": [
    "Split your data into train and test sets, keep in mind that you need to set a random state for your results to be reproduced!"
   ]
  },
  {
   "cell_type": "code",
   "execution_count": 7,
   "metadata": {
    "id": "yHBLubxt_b2t"
   },
   "outputs": [],
   "source": [
    "X_train, X_test, y_train, y_test = train_test_split(\n",
    "    cancer.data,\n",
    "    cancer.target,\n",
    "    stratify=cancer.target,\n",
    "    random_state=7)"
   ]
  },
  {
   "cell_type": "code",
   "execution_count": 8,
   "metadata": {
    "id": "vjsyVrHF_kHR"
   },
   "outputs": [],
   "source": [
    "# Scale your data!\n",
    "\n",
    "scaler = StandardScaler()\n",
    "X_train_scaled = scaler.fit_transform(X_train)\n",
    "X_test_scaled = scaler.transform(X_test)"
   ]
  },
  {
   "cell_type": "markdown",
   "metadata": {
    "id": "93jtvJoIGxbK"
   },
   "source": [
    "## GridSearch \n",
    "\n",
    "For this example we've used a gridsearch but you may use a model with default parameters or your own parameters too- Just remember to add/remove the neccesary data when you are logging your parameters at the end of the experiment.\n",
    "\n",
    "The `param_grid` variable contains the 'C' values we want our gridsearch to iterate through.\n",
    "\n"
   ]
  },
  {
   "cell_type": "code",
   "execution_count": 9,
   "metadata": {
    "id": "B0yjyIgS_pde"
   },
   "outputs": [],
   "source": [
    "logreg = LogisticRegression()\n",
    "param_grid = {'C': [0.001, 0.01, 0.1, 1, 5, 10, 20, 50, 100]}"
   ]
  },
  {
   "cell_type": "code",
   "execution_count": 10,
   "metadata": {
    "id": "PjWzBbbqF_S1"
   },
   "outputs": [],
   "source": [
    "# Training and testing using GridSearch\n",
    "clf = GridSearchCV(logreg,\n",
    "                   param_grid=param_grid,\n",
    "                   cv=10,\n",
    "                   n_jobs=-1)\n",
    "\n",
    "clf.fit(X_train_scaled, y_train)\n",
    "y_pred = clf.predict(X_test_scaled)"
   ]
  },
  {
   "cell_type": "markdown",
   "metadata": {
    "id": "Qn57DHbLQSyF"
   },
   "source": [
    "## Results\n",
    "\n",
    "Now that our model has trained, we can have a look at the results- Below is a confusion matrix indicating that at first glance, we have a fairly good model going. We then save the F1 score, Precision, and Recall as individual variables to go into our metric dictionary for logging.\n",
    "\n",
    "P.S. have a look at the Comet tutorial page for interesting confusion matrix plots."
   ]
  },
  {
   "cell_type": "code",
   "execution_count": 11,
   "metadata": {
    "colab": {
     "base_uri": "https://localhost:8080/"
    },
    "id": "wPerWtdRGFvx",
    "outputId": "37aa1c7b-3ab8-4833-edd3-9857d15a3aca"
   },
   "outputs": [
    {
     "name": "stdout",
     "output_type": "stream",
     "text": [
      "\n",
      "Results\n",
      "Confusion matrix \n",
      " [[52  1]\n",
      " [ 2 88]]\n"
     ]
    }
   ],
   "source": [
    "print(\"\\nResults\\nConfusion matrix \\n {}\".format(\n",
    "    confusion_matrix(y_test, y_pred)))"
   ]
  },
  {
   "cell_type": "code",
   "execution_count": 12,
   "metadata": {
    "id": "arEXfiZPGLOd"
   },
   "outputs": [],
   "source": [
    "# Saving each metric to add to a dictionary for logging\n",
    "\n",
    "f1 = f1_score(y_test, y_pred)\n",
    "precision = precision_score(y_test, y_pred)\n",
    "recall = recall_score(y_test, y_pred)"
   ]
  },
  {
   "cell_type": "code",
   "execution_count": 13,
   "metadata": {
    "id": "-1kDE76cGRSd"
   },
   "outputs": [],
   "source": [
    "# Create dictionaries for the data we want to log\n",
    "\n",
    "params = {\"random_state\": 7,\n",
    "          \"model_type\": \"logreg\",\n",
    "          \"scaler\": \"standard scaler\",\n",
    "          \"param_grid\": str(param_grid),\n",
    "          \"stratify\": True\n",
    "          }\n",
    "metrics = {\"f1\": f1,\n",
    "           \"recall\": recall,\n",
    "           \"precision\": precision\n",
    "           }"
   ]
  },
  {
   "cell_type": "code",
   "execution_count": 14,
   "metadata": {
    "id": "oun_B6m5GXEz"
   },
   "outputs": [],
   "source": [
    "# Log our parameters and results\n",
    "experiment.log_parameters(params)\n",
    "experiment.log_metrics(metrics)"
   ]
  },
  {
   "cell_type": "markdown",
   "metadata": {
    "id": "wuUPB_amTU-0"
   },
   "source": [
    "If you're using comet within a jupyter notebook, it's important to end your experiment when you've finished as illustrated below."
   ]
  },
  {
   "cell_type": "code",
   "execution_count": 15,
   "metadata": {
    "colab": {
     "base_uri": "https://localhost:8080/"
    },
    "id": "CbQ3tKA-G6rW",
    "outputId": "bfad91f2-ff87-4e31-d5d0-0681d9d98f95"
   },
   "outputs": [
    {
     "name": "stderr",
     "output_type": "stream",
     "text": [
      "COMET INFO: ---------------------------\n",
      "COMET INFO: Comet.ml Experiment Summary\n",
      "COMET INFO: ---------------------------\n",
      "COMET INFO:   Data:\n",
      "COMET INFO:     display_summary_level : 1\n",
      "COMET INFO:     url                   : https://www.comet.ml/mohau45/general/25f07424b059474792ec0db1a8257d32\n",
      "COMET INFO:   Metrics:\n",
      "COMET INFO:     f1        : 0.9832402234636872\n",
      "COMET INFO:     precision : 0.9887640449438202\n",
      "COMET INFO:     recall    : 0.9777777777777777\n",
      "COMET INFO:   Others:\n",
      "COMET INFO:     notebook_url : https://colab.research.google.com/notebook#fileId=1bxpfLyGkjZf6yJx_WRVdnwwQkY1thRG5\n",
      "COMET INFO:   Parameters:\n",
      "COMET INFO:     C                            : 1\n",
      "COMET INFO:     class_weight                 : 1\n",
      "COMET INFO:     copy                         : True\n",
      "COMET INFO:     cv                           : 10\n",
      "COMET INFO:     dual                         : False\n",
      "COMET INFO:     error_score                  : nan\n",
      "COMET INFO:     estimator                    : LogisticRegression()\n",
      "COMET INFO:     estimator__C                 : 1.0\n",
      "COMET INFO:     estimator__class_weight      : 1\n",
      "COMET INFO:     estimator__dual              : False\n",
      "COMET INFO:     estimator__fit_intercept     : True\n",
      "COMET INFO:     estimator__intercept_scaling : 1\n",
      "COMET INFO:     estimator__l1_ratio          : 1\n",
      "COMET INFO:     estimator__max_iter          : 100\n",
      "COMET INFO:     estimator__multi_class       : auto\n",
      "COMET INFO:     estimator__n_jobs            : 1\n",
      "COMET INFO:     estimator__penalty           : l2\n",
      "COMET INFO:     estimator__random_state      : 1\n",
      "COMET INFO:     estimator__solver            : lbfgs\n",
      "COMET INFO:     estimator__tol               : 0.0001\n",
      "COMET INFO:     estimator__verbose           : 0\n",
      "COMET INFO:     estimator__warm_start        : False\n",
      "COMET INFO:     fit_intercept                : True\n",
      "COMET INFO:     intercept_scaling            : 1\n",
      "COMET INFO:     l1_ratio                     : 1\n",
      "COMET INFO:     max_iter                     : 100\n",
      "COMET INFO:     model_type                   : logreg\n",
      "COMET INFO:     multi_class                  : auto\n",
      "COMET INFO:     n_jobs                       : -1\n",
      "COMET INFO:     param_grid                   : {'C': [0.001, 0.01, 0.1, 1, 5, 10, 20, 50, 100]}\n",
      "COMET INFO:     penalty                      : l2\n",
      "COMET INFO:     pre_dispatch                 : 2*n_jobs\n",
      "COMET INFO:     random_state                 : 7\n",
      "COMET INFO:     refit                        : True\n",
      "COMET INFO:     return_train_score           : False\n",
      "COMET INFO:     scaler                       : standard scaler\n",
      "COMET INFO:     scoring                      : 1\n",
      "COMET INFO:     solver                       : lbfgs\n",
      "COMET INFO:     stratify                     : True\n",
      "COMET INFO:     tol                          : 0.0001\n",
      "COMET INFO:     verbose                      : 0\n",
      "COMET INFO:     warm_start                   : False\n",
      "COMET INFO:     with_mean                    : True\n",
      "COMET INFO:     with_std                     : True\n",
      "COMET INFO:   Uploads:\n",
      "COMET INFO:     environment details : 1\n",
      "COMET INFO:     filename            : 1\n",
      "COMET INFO:     installed packages  : 1\n",
      "COMET INFO:     notebook            : 2\n",
      "COMET INFO:     os packages         : 1\n",
      "COMET INFO:     source_code         : 1\n",
      "COMET INFO: ---------------------------\n",
      "COMET ERROR: Error sending a notification, make sure you have opted-in for notifications\n",
      "COMET INFO: Uploading metrics, params, and assets to Comet before program termination (may take several seconds)\n",
      "COMET INFO: The Python SDK has 3600 seconds to finish before aborting...\n"
     ]
    }
   ],
   "source": [
    "experiment.end()"
   ]
  },
  {
   "cell_type": "markdown",
   "metadata": {
    "id": "BXuUORTEooIX"
   },
   "source": [
    "## Display  \n",
    "\n",
    "Running `experiment.display()` will show you your experiments comet.ml page inside your notebook as illustrated below. You can do this immediately after an experiment is run, and logged. "
   ]
  },
  {
   "cell_type": "code",
   "execution_count": 16,
   "metadata": {
    "colab": {
     "base_uri": "https://localhost:8080/",
     "height": 822
    },
    "id": "B-5ZmY-ZHFRf",
    "outputId": "6b001409-fdfe-4eb1-f602-3d56d54f8ad9"
   },
   "outputs": [
    {
     "data": {
      "text/html": [
       "\n",
       "        <iframe\n",
       "            width=\"100%\"\n",
       "            height=\"800px\"\n",
       "            src=\"https://www.comet.ml/mohau45/general/25f07424b059474792ec0db1a8257d32\"\n",
       "            frameborder=\"0\"\n",
       "            allowfullscreen\n",
       "        ></iframe>\n",
       "        "
      ],
      "text/plain": [
       "<IPython.lib.display.IFrame at 0x7fd206ceb350>"
      ]
     },
     "metadata": {},
     "output_type": "display_data"
    }
   ],
   "source": [
    "experiment.display()"
   ]
  },
  {
   "cell_type": "markdown",
   "metadata": {
    "id": "2p5lGFg2eJ_3"
   },
   "source": [
    "# ***Advanced Classification Predict***"
   ]
  },
  {
   "cell_type": "markdown",
   "metadata": {
    "id": "GlzgKEmC5cRt"
   },
   "source": [
    "# **Predict Overview: 2022 Climate Change Belief Analysis**\n",
    "\n",
    "Many companies are built around lessening one’s environmental impact or carbon footprint. They offer products and services that are environmentally friendly and sustainable, in line with their values and ideals. They would like to determine how people perceive climate change and whether or not they believe it is a real threat. This would add to their market research efforts in gauging how their product/service may be received.\n",
    "\n",
    "With this context, EDSA is challenging you during the Classification Sprint with the task of creating a Machine Learning model that is able to classify whether or not a person believes in climate change, based on their novel tweet data.\n",
    "\n",
    "Providing an accurate and robust solution to this task gives companies access to a broad base of consumer sentiment, spanning multiple demographic and geographic categories - thus increasing their insights and informing future marketing strategies.\n",
    "\n",
    "\n",
    "\n",
    "\n"
   ]
  },
  {
   "cell_type": "markdown",
   "metadata": {
    "id": "XisxPVRjcnuc"
   },
   "source": [
    "# **Problem statement**\n",
    "\n",
    "\n",
    "\n",
    "\n",
    "  Build a robust Machine Learning Model that will be able to predict a person’s belief in Climate Change based on their Tweet Data, allowing companies to gain access into customer sentiment.\n",
    "\n",
    "---\n",
    "The business problem we are pitching to solve involves a fictional line of clothing sourced from sustainable and/or recycled sources that Woolworths is considering investing in. This will likely require a significant amount of capital expenditure and risk, with the need for novel material sourcing and production techniques likely increasing costs further. We are offering a machine learning platform that can determine customer sentiment about climate change based on tweets, large numbers of users and/or customers who express their belief that climate change is real and caused by humans may be significantly more likely to pay attention to (and consider purchasing) this new line of clothing if it were launched.\n",
    "\n"
   ]
  },
  {
   "cell_type": "markdown",
   "metadata": {
    "id": "dsimoQSD6JYh"
   },
   "source": [
    "![Screenshot_20220609-154044-1.jpg](data:image/jpeg;base64,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)"
   ]
  },
  {
   "cell_type": "markdown",
   "metadata": {
    "id": "LLC09c5f5xc1"
   },
   "source": [
    "#  **Table of Contents**"
   ]
  },
  {
   "cell_type": "markdown",
   "metadata": {
    "id": "tW7Imd7O55CP"
   },
   "source": [
    "1. Importing Packages\n",
    "\n",
    "2. Loading Data\n",
    "\n",
    "3. Exploratory Data Analysis (EDA)\n",
    "\n",
    "4. Data Engineering\n",
    "\n",
    "5. Modeling\n",
    "\n",
    "6. Model Performance\n",
    "\n",
    "7. Model Explanations"
   ]
  },
  {
   "cell_type": "markdown",
   "metadata": {
    "id": "es-EiErm6L0D"
   },
   "source": [
    "# 1. **Importing Packages**"
   ]
  },
  {
   "cell_type": "markdown",
   "metadata": {
    "id": "DvY1LuDL6guD"
   },
   "source": [
    "Back to Table of Contents"
   ]
  },
  {
   "cell_type": "code",
   "execution_count": null,
   "metadata": {
    "id": "CYnq80USgARA"
   },
   "outputs": [],
   "source": [
    "# !pip install fastText\n",
    "# !pip install langdetect\n",
    "# !pip install contractions\n",
    "# !pip install scikit-plot"
   ]
  },
  {
   "cell_type": "code",
   "execution_count": null,
   "metadata": {
    "id": "kSg7-duygIkx"
   },
   "outputs": [],
   "source": [
    "#!pip install wordcloud"
   ]
  },
  {
   "cell_type": "code",
   "execution_count": null,
   "metadata": {
    "id": "CMQZ5RYPgOW5"
   },
   "outputs": [],
   "source": [
    "import comet_ml\n",
    "from comet_ml import Experiment"
   ]
  },
  {
   "cell_type": "code",
   "execution_count": null,
   "metadata": {
    "id": "psPOBZTqgXAy"
   },
   "outputs": [],
   "source": [
    "import seaborn as sns\n",
    "from scipy import stats\n",
    "import matplotlib.pyplot as plt\n",
    "from wordcloud import WordCloud, STOPWORDS\n",
    "from matplotlib.colors import ListedColormap\n",
    "%matplotlib inline\n",
    "\n",
    "# imports for Natural Language  Processing\n",
    "import re\n",
    "import os\n",
    "import nltk\n",
    "import time\n",
    "import numpy as np\n",
    "import pandas as pd\n",
    "#import xgboost\n",
    "from sklearn import metrics\n",
    "from nltk.corpus import stopwords\n",
    "from nltk.tokenize import TweetTokenizer\n",
    "from nltk.corpus import stopwords, wordnet\n",
    "from nltk.stem import WordNetLemmatizer\n",
    "from nltk.stem import PorterStemmer\n",
    "from nltk.tokenize import word_tokenize\n",
    "from sklearn.feature_extraction.text import TfidfVectorizer\n",
    "nltk.download('stopwords')\n",
    "\n",
    "# Classification Models\n",
    "\n",
    "from sklearn.svm import LinearSVC, SVC\n",
    "from sklearn.naive_bayes import MultinomialNB\n",
    "from sklearn.tree import DecisionTreeClassifier\n",
    "from sklearn.ensemble import AdaBoostClassifier\n",
    "from sklearn.neighbors import KNeighborsClassifier\n",
    "from sklearn.ensemble import RandomForestClassifier\n",
    "from sklearn.linear_model import LogisticRegression, SGDClassifier\n",
    "from sklearn.naive_bayes import ComplementNB\n",
    "\n",
    "# Performance Evaluation\n",
    "from sklearn.pipeline import Pipeline\n",
    "from sklearn.metrics import roc_curve, auc\n",
    "from sklearn.preprocessing import label_binarize\n",
    "from sklearn.model_selection import GridSearchCV\n",
    "from sklearn.model_selection import StratifiedKFold\n",
    "#from scikitplot.metrics import plot_roc, plot_confusion_matrix\n",
    "from sklearn.multiclass import OneVsRestClassifier, OneVsOneClassifier\n",
    "from sklearn.metrics import f1_score, accuracy_score, precision_score, recall_score, classification_report, confusion_matrix\n",
    "\n",
    "# Import library for train test split\n",
    "from sklearn.model_selection import train_test_split, KFold, cross_val_score, GridSearchCV\n",
    "\n",
    "#Resampling techniques -- not used here, but did try them.\n",
    "from collections import Counter \n",
    "from sklearn.utils import resample\n",
    "from imblearn.over_sampling import SMOTE\n",
    "\n",
    "# Ignore warnings\n",
    "import warnings\n",
    "warnings.simplefilter(action='ignore')\n",
    "\n",
    "#spacy\n",
    "#spacy.cli.download('en_core_web_sm')"
   ]
  },
  {
   "cell_type": "markdown",
   "metadata": {
    "id": "ENMTqbhz65-A"
   },
   "source": [
    "# 2. **Loading the Data**"
   ]
  },
  {
   "cell_type": "markdown",
   "metadata": {
    "id": "YEQCeXE0g9Bl"
   },
   "source": [
    "Back to Table of Contents"
   ]
  },
  {
   "cell_type": "markdown",
   "metadata": {
    "id": "PPSdYKBUmBx_"
   },
   "source": []
  },
  {
   "cell_type": "markdown",
   "metadata": {
    "id": "g5mBh9Bv7XR9"
   },
   "source": [
    "# 3. **Exploratory Data Analysis (EDA)**"
   ]
  },
  {
   "cell_type": "markdown",
   "metadata": {
    "id": "LKsheogs7sko"
   },
   "source": [
    "Determine what parameters our dataset consists of:"
   ]
  },
  {
   "cell_type": "markdown",
   "metadata": {
    "id": "WgMwEnl370CF"
   },
   "source": [
    "Getting info about the dataframe e.g datatype,number of columns, missing values:"
   ]
  },
  {
   "cell_type": "markdown",
   "metadata": {
    "id": "Ne5jy9Ck79D2"
   },
   "source": [
    "Calculating the number of missing values:"
   ]
  },
  {
   "cell_type": "markdown",
   "metadata": {
    "id": "jGKSZOlr8QIr"
   },
   "source": [
    "Determining the number of unique values in each column:"
   ]
  },
  {
   "cell_type": "markdown",
   "metadata": {
    "id": "YkSLl3Es8XJI"
   },
   "source": [
    "Determine the number of tweets for each sentiment as well as percentages"
   ]
  },
  {
   "cell_type": "markdown",
   "metadata": {
    "id": "cqVqrrba8eFG"
   },
   "source": [
    "Making a copy of the dataframe"
   ]
  },
  {
   "cell_type": "markdown",
   "metadata": {
    "id": "oesWnep28nPN"
   },
   "source": [
    "Determine the distribution of our target variable and if there is class imbalance."
   ]
  },
  {
   "cell_type": "markdown",
   "metadata": {
    "id": "lnz2X0s58vab"
   },
   "source": [
    "Numeric keys aren't the most user-friendly, lets change the to text labels"
   ]
  },
  {
   "cell_type": "markdown",
   "metadata": {
    "id": "h50txHXH84KP"
   },
   "source": [
    "Different graph to visualize distribution of tweets by sentiment, made using seaborn"
   ]
  },
  {
   "cell_type": "markdown",
   "metadata": {
    "id": "_VFTAqbY8-eX"
   },
   "source": [
    "Determine what the most common words in the dataset:"
   ]
  },
  {
   "cell_type": "markdown",
   "metadata": {
    "id": "sEl4eK059Hml"
   },
   "source": [
    "Visualise above table with a bar chart:"
   ]
  },
  {
   "cell_type": "markdown",
   "metadata": {
    "id": "oN6RZ7z89R6v"
   },
   "source": [
    "Created a function that determines the top 20 unique words for each of the sentiments:"
   ]
  },
  {
   "cell_type": "markdown",
   "metadata": {
    "id": "5XJ9AtkU9iZR"
   },
   "source": [
    "# 4.**Data Engineering**"
   ]
  },
  {
   "cell_type": "markdown",
   "metadata": {
    "id": "Y4oTneI_-F4z"
   },
   "source": []
  },
  {
   "cell_type": "markdown",
   "metadata": {
    "id": "KXDTURNm9z5S"
   },
   "source": []
  },
  {
   "cell_type": "markdown",
   "metadata": {
    "id": "gGO1U5Fo8K-v"
   },
   "source": []
  },
  {
   "cell_type": "markdown",
   "metadata": {
    "id": "xKyPtWj47fg5"
   },
   "source": []
  }
 ],
 "metadata": {
  "colab": {
   "collapsed_sections": [],
   "name": "sklearn_comet_starter_notebook.ipynb",
   "provenance": []
  },
  "kernelspec": {
   "display_name": "Python 3 (ipykernel)",
   "language": "python",
   "name": "python3"
  },
  "language_info": {
   "codemirror_mode": {
    "name": "ipython",
    "version": 3
   },
   "file_extension": ".py",
   "mimetype": "text/x-python",
   "name": "python",
   "nbconvert_exporter": "python",
   "pygments_lexer": "ipython3",
   "version": "3.9.12"
  }
 },
 "nbformat": 4,
 "nbformat_minor": 1
}
